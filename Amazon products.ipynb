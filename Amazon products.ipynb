{
 "cells": [
  {
   "cell_type": "code",
   "execution_count": 177,
   "metadata": {},
   "outputs": [
    {
     "ename": "TimeoutException",
     "evalue": "Message: \nStacktrace:\n\tGetHandleVerifier [0x00007FF7C0B8AD22+56930]\n\t(No symbol) [0x00007FF7C0AFF622]\n\t(No symbol) [0x00007FF7C09B42E5]\n\t(No symbol) [0x00007FF7C09F98ED]\n\t(No symbol) [0x00007FF7C09F9A2C]\n\t(No symbol) [0x00007FF7C0A3A967]\n\t(No symbol) [0x00007FF7C0A1BCDF]\n\t(No symbol) [0x00007FF7C0A381E2]\n\t(No symbol) [0x00007FF7C0A1BA43]\n\t(No symbol) [0x00007FF7C09ED438]\n\t(No symbol) [0x00007FF7C09EE4D1]\n\tGetHandleVerifier [0x00007FF7C0F06AAD+3709933]\n\tGetHandleVerifier [0x00007FF7C0F5FFED+4075821]\n\tGetHandleVerifier [0x00007FF7C0F5817F+4043455]\n\tGetHandleVerifier [0x00007FF7C0C29756+706710]\n\t(No symbol) [0x00007FF7C0B0B8FF]\n\t(No symbol) [0x00007FF7C0B06AE4]\n\t(No symbol) [0x00007FF7C0B06C3C]\n\t(No symbol) [0x00007FF7C0AF68F4]\n\tBaseThreadInitThunk [0x00007FFCECEA7344+20]\n\tRtlUserThreadStart [0x00007FFCEED226B1+33]\n",
     "output_type": "error",
     "traceback": [
      "\u001b[1;31m---------------------------------------------------------------------------\u001b[0m",
      "\u001b[1;31mTimeoutException\u001b[0m                          Traceback (most recent call last)",
      "Cell \u001b[1;32mIn[177], line 112\u001b[0m\n\u001b[0;32m    110\u001b[0m \u001b[38;5;66;03m# Look for the next page button\u001b[39;00m\n\u001b[0;32m    111\u001b[0m \u001b[38;5;28;01mtry\u001b[39;00m:\n\u001b[1;32m--> 112\u001b[0m     next_page_button \u001b[38;5;241m=\u001b[39m \u001b[43mWebDriverWait\u001b[49m\u001b[43m(\u001b[49m\u001b[43mdriver\u001b[49m\u001b[43m,\u001b[49m\u001b[43m \u001b[49m\u001b[38;5;241;43m20\u001b[39;49m\u001b[43m)\u001b[49m\u001b[38;5;241;43m.\u001b[39;49m\u001b[43muntil\u001b[49m\u001b[43m(\u001b[49m\u001b[43mEC\u001b[49m\u001b[38;5;241;43m.\u001b[39;49m\u001b[43mpresence_of_element_located\u001b[49m\u001b[43m(\u001b[49m\u001b[43m(\u001b[49m\u001b[43mBy\u001b[49m\u001b[38;5;241;43m.\u001b[39;49m\u001b[43mXPATH\u001b[49m\u001b[43m,\u001b[49m\u001b[38;5;124;43m\"\u001b[39;49m\u001b[38;5;124;43m//a[@class=\u001b[39;49m\u001b[38;5;124;43m'\u001b[39;49m\u001b[38;5;124;43ms-pagination-item s-pagination-next s-pagination-button s-pagination-separator\u001b[39;49m\u001b[38;5;124;43m'\u001b[39;49m\u001b[38;5;124;43m]\u001b[39;49m\u001b[38;5;124;43m\"\u001b[39;49m\u001b[43m)\u001b[49m\u001b[43m)\u001b[49m\u001b[43m)\u001b[49m\n\u001b[0;32m    113\u001b[0m     next_page_button\u001b[38;5;241m.\u001b[39mclick()\n\u001b[0;32m    114\u001b[0m     time\u001b[38;5;241m.\u001b[39msleep(\u001b[38;5;241m5\u001b[39m)  \u001b[38;5;66;03m# Add some delay before scraping next page\u001b[39;00m\n",
      "File \u001b[1;32mc:\\Users\\DELL\\anaconda3\\Lib\\site-packages\\selenium\\webdriver\\support\\wait.py:105\u001b[0m, in \u001b[0;36mWebDriverWait.until\u001b[1;34m(self, method, message)\u001b[0m\n\u001b[0;32m    103\u001b[0m     \u001b[38;5;28;01mif\u001b[39;00m time\u001b[38;5;241m.\u001b[39mmonotonic() \u001b[38;5;241m>\u001b[39m end_time:\n\u001b[0;32m    104\u001b[0m         \u001b[38;5;28;01mbreak\u001b[39;00m\n\u001b[1;32m--> 105\u001b[0m \u001b[38;5;28;01mraise\u001b[39;00m TimeoutException(message, screen, stacktrace)\n",
      "\u001b[1;31mTimeoutException\u001b[0m: Message: \nStacktrace:\n\tGetHandleVerifier [0x00007FF7C0B8AD22+56930]\n\t(No symbol) [0x00007FF7C0AFF622]\n\t(No symbol) [0x00007FF7C09B42E5]\n\t(No symbol) [0x00007FF7C09F98ED]\n\t(No symbol) [0x00007FF7C09F9A2C]\n\t(No symbol) [0x00007FF7C0A3A967]\n\t(No symbol) [0x00007FF7C0A1BCDF]\n\t(No symbol) [0x00007FF7C0A381E2]\n\t(No symbol) [0x00007FF7C0A1BA43]\n\t(No symbol) [0x00007FF7C09ED438]\n\t(No symbol) [0x00007FF7C09EE4D1]\n\tGetHandleVerifier [0x00007FF7C0F06AAD+3709933]\n\tGetHandleVerifier [0x00007FF7C0F5FFED+4075821]\n\tGetHandleVerifier [0x00007FF7C0F5817F+4043455]\n\tGetHandleVerifier [0x00007FF7C0C29756+706710]\n\t(No symbol) [0x00007FF7C0B0B8FF]\n\t(No symbol) [0x00007FF7C0B06AE4]\n\t(No symbol) [0x00007FF7C0B06C3C]\n\t(No symbol) [0x00007FF7C0AF68F4]\n\tBaseThreadInitThunk [0x00007FFCECEA7344+20]\n\tRtlUserThreadStart [0x00007FFCEED226B1+33]\n"
     ]
    }
   ],
   "source": [
    "#import libraries\n",
    "from selenium import webdriver\n",
    "from selenium.webdriver.chrome.service import Service\n",
    "from selenium.webdriver.common.by import By\n",
    "from selenium.webdriver.common.keys import Keys\n",
    "from selenium.webdriver.support.ui import WebDriverWait \n",
    "from selenium.webdriver.support.select import Select\n",
    "from selenium.common.exceptions import NoSuchElementException\n",
    "\n",
    "from selenium.webdriver.support import expected_conditions as EC\n",
    "import pandas as pd\n",
    "import time\n",
    "\n",
    "\n",
    "#crating path for chrome and go to chrome\n",
    "service=Service(executable_path='chromedriver.exe')\n",
    "\n",
    "\n",
    "driver=webdriver.Chrome(service=service)\n",
    "driver.maximize_window()\n",
    "\n",
    "#Go to google\n",
    "url='https://www.google.com/'\n",
    "driver.get(url)\n",
    "#Input values to google search\n",
    "\n",
    "time.sleep(5)\n",
    "WebDriverWait(driver,5).until(EC.presence_of_element_located((By.CLASS_NAME,'gLFyf')))\n",
    "input_element=driver.find_element(By.CLASS_NAME,'gLFyf')\n",
    "input_element.clear()                                          #incase there was text in the input box\n",
    "input_element.send_keys('amazon.com'+Keys.ENTER)\n",
    "\n",
    "#Go to the website that we searched through google\n",
    "WebDriverWait(driver,5).until(EC.presence_of_element_located((By.PARTIAL_LINK_TEXT,\"Amazon.com Official Site\")))\n",
    "link=driver.find_element(By.PARTIAL_LINK_TEXT,\"Amazon.com Official Site\")\n",
    "link.click()\n",
    "time.sleep(5)\n",
    "\n",
    "WebDriverWait(driver,5).until(EC.presence_of_element_located((By.ID,\"twotabsearchtextbox\")))\n",
    "inpt=driver.find_element(By.ID,\"twotabsearchtextbox\")\n",
    "inpt.clear()                                          #incase there was text in the input box\n",
    "inpt.send_keys('iphone below $700'+Keys.ENTER)\n",
    "while True:\n",
    "#Now lets scrape the products\n",
    "\n",
    "    #Now lets Scrape the data for product name\n",
    "    WebDriverWait(driver,10).until(EC.presence_of_all_elements_located((By.XPATH,\"//span[@class='a-size-medium a-color-base a-text-normal']\")))\n",
    "    phones=driver.find_elements(By.XPATH,\"//span[@class='a-size-medium a-color-base a-text-normal']\")\n",
    "    phone_names=[]\n",
    "    for names in phones:\n",
    "        phone_names.append(names.text)\n",
    "        for fonz in phone_names:\n",
    "            namyy=fonz\n",
    "        #print(namyy)\n",
    "#lets scrape for price\n",
    "\n",
    "    WebDriverWait(driver, 10).until(EC.presence_of_all_elements_located((By.XPATH, \"//div[@data-cy='price-recipe']\")))\n",
    "    price = driver.find_elements(By.XPATH, \"//div[@data-cy='price-recipe']\")\n",
    "    phone_price = []\n",
    "\n",
    "    try:\n",
    "        for prize in price:\n",
    "            phone_price.append(prize.text)\n",
    "    except NoSuchElementException:  # Handle NoSuchElementException\n",
    "        phone_price.append('no price found')\n",
    "\n",
    "    if not phone_price:  # Check if phone_price list is empty\n",
    "        phone_price.append('no price found')\n",
    "\n",
    "    for prz in phone_price:\n",
    "        prs = prz\n",
    "        # print(prs)\n",
    "\n",
    "#lets scrape for rates\n",
    "    WebDriverWait(driver,10).until(EC.presence_of_all_elements_located((By.XPATH,\"//div[@style='display: inline-block']\")))\n",
    "    rating=driver.find_elements(By.XPATH,\"//div[@style='display: inline-block']\")\n",
    "    phone_rating=[]\n",
    "    try:\n",
    "        for rate in rating:\n",
    "            phone_rating.append(rate.text)\n",
    "            for rts in phone_rating:\n",
    "                rates=rts\n",
    "        #print(rates)\n",
    "    except:\n",
    "        phone_rating.append('no rating found')\n",
    "        \n",
    "             \n",
    "#lets scrape for phones sold\n",
    "    WebDriverWait(driver, 10).until(EC.presence_of_all_elements_located((By.XPATH, \"//span[@class='a-size-base a-color-secondary']\")))\n",
    "    phone_sold = driver.find_elements(By.XPATH, \"//span[@class='a-size-base a-color-secondary']\")\n",
    "    phone_sells = []\n",
    "\n",
    "    try:\n",
    "        for sells in phone_sold:\n",
    "            phone_sells.append(sells.text)\n",
    "    except NoSuchElementException:  # Handle NoSuchElementException\n",
    "         phone_sells.append('no sells found')\n",
    "\n",
    "    if not phone_sells:  # Check if phone_price list is empty\n",
    "        phone_sells.append('no price found')\n",
    "\n",
    "    for sell in phone_sells:\n",
    "        sales = sell\n",
    "   # print(sales)\n",
    "\n",
    "\n",
    "    products=zip(phone_names,phone_price,phone_rating,phone_sells)\n",
    "    Iphones=pd.DataFrame(products,columns=['Phone Name & Description','Price','Number of Ratings','Number Sold'])\n",
    "    Iphones.to_csv(r'C:\\Users\\DELL\\Desktop\\Webdriver\\Iphones From Amazon.csv',index=False)\n",
    "    # Look for the next page button\n",
    "    try:\n",
    "        next_page_button = WebDriverWait(driver, 20).until(EC.presence_of_element_located((By.XPATH,\"//a[@class='s-pagination-item s-pagination-next s-pagination-button s-pagination-separator']\")))\n",
    "        next_page_button.click()\n",
    "        time.sleep(5)  # Add some delay before scraping next page\n",
    "    except NoSuchElementException:\n",
    "        break  # If no next page button is found, exit the loop\n",
    "\n",
    "driver.quit()\n",
    "    \n"
   ]
  },
  {
   "cell_type": "code",
   "execution_count": null,
   "metadata": {},
   "outputs": [],
   "source": [
    "Iphones.loc[4,'Price']"
   ]
  },
  {
   "cell_type": "code",
   "execution_count": null,
   "metadata": {},
   "outputs": [],
   "source": [
    "Iphones.head()"
   ]
  },
  {
   "cell_type": "code",
   "execution_count": null,
   "metadata": {},
   "outputs": [],
   "source": [
    "len(phone_price)"
   ]
  },
  {
   "cell_type": "code",
   "execution_count": null,
   "metadata": {},
   "outputs": [],
   "source": [
    "driver.quit()"
   ]
  },
  {
   "cell_type": "code",
   "execution_count": null,
   "metadata": {},
   "outputs": [],
   "source": [
    "\n"
   ]
  },
  {
   "cell_type": "code",
   "execution_count": null,
   "metadata": {},
   "outputs": [],
   "source": []
  }
 ],
 "metadata": {
  "kernelspec": {
   "display_name": "base",
   "language": "python",
   "name": "python3"
  },
  "language_info": {
   "codemirror_mode": {
    "name": "ipython",
    "version": 3
   },
   "file_extension": ".py",
   "mimetype": "text/x-python",
   "name": "python",
   "nbconvert_exporter": "python",
   "pygments_lexer": "ipython3",
   "version": "3.11.5"
  }
 },
 "nbformat": 4,
 "nbformat_minor": 2
}
