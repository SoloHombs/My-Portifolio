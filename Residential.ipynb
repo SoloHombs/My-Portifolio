{
 "cells": [
  {
   "cell_type": "code",
   "execution_count": 1,
   "id": "64f67a45-cdeb-4e4b-bd83-5b80a5ccda63",
   "metadata": {},
   "outputs": [],
   "source": [
    "import requests\n",
    "from bs4 import BeautifulSoup\n",
    "import pandas as pd\n",
    "url='https://www.residential.com/homesearch/for_rent/CA/Los_Angeles'\n",
    "response=requests.get(url)\n",
    "#response\n",
    "html=response.text\n",
    "soup=BeautifulSoup(html,'html.parser')\n",
    "accomodation=soup.find('div',{'class':'container_listingsList__cLFTb'})\n",
    "home=accomodation.find_all('a',{'class':'listing_listing__s6sYv'})  \n",
    "Rental=[]\n",
    "for house in home:\n",
    "    price=house.find('div',{'class':'listing_price__Btsti'}).text.strip()\n",
    "    area=house.find('div',{'class':'listing_details__D3EEd'}).text.strip()\n",
    "    adress=house.find('div',{'class':'listing_address__Xntl0'}).text.strip()\n",
    "    name=[]\n",
    "    try:\n",
    "        n=house.find_all('div',{'class':'agent-source_name__iAwOO'})[0]\n",
    "        name.append(n.text[13:].strip())\n",
    "    except:\n",
    "        name.append('Agent info not found')\n",
    "    for N in name:\n",
    "        namy=N\n",
    "    Rental.append([namy,adress,area,price])  \n",
    "    Home=pd.DataFrame(Rental,columns=['Name','Adress','Residential information','Price'])\n",
    "    Home.to_csv('C:/Users/DELL/Desktop/Webdriver/Rental Houses.csv',index=False)\n",
    " \n",
    "\n",
    "\n",
    "\n",
    "    "
   ]
  },
  {
   "cell_type": "code",
   "execution_count": null,
   "id": "b703fbce",
   "metadata": {},
   "outputs": [],
   "source": []
  },
  {
   "cell_type": "code",
   "execution_count": 13,
   "id": "ce174f70-66bf-4c82-bfce-5fa28ecce808",
   "metadata": {},
   "outputs": [
    {
     "data": {
      "text/html": [
       "<div>\n",
       "<style scoped>\n",
       "    .dataframe tbody tr th:only-of-type {\n",
       "        vertical-align: middle;\n",
       "    }\n",
       "\n",
       "    .dataframe tbody tr th {\n",
       "        vertical-align: top;\n",
       "    }\n",
       "\n",
       "    .dataframe thead th {\n",
       "        text-align: right;\n",
       "    }\n",
       "</style>\n",
       "<table border=\"1\" class=\"dataframe\">\n",
       "  <thead>\n",
       "    <tr style=\"text-align: right;\">\n",
       "      <th></th>\n",
       "      <th>Name</th>\n",
       "      <th>Adress</th>\n",
       "      <th>Residential information</th>\n",
       "      <th>Price</th>\n",
       "    </tr>\n",
       "  </thead>\n",
       "  <tbody>\n",
       "    <tr>\n",
       "      <th>0</th>\n",
       "      <td>Agent info not found</td>\n",
       "      <td>11500 National Blvd 109Los Angeles, CA 90064</td>\n",
       "      <td>1,620 Sq Ft2 beds3 baths</td>\n",
       "      <td>$5,200</td>\n",
       "    </tr>\n",
       "    <tr>\n",
       "      <th>1</th>\n",
       "      <td>Agent info not found</td>\n",
       "      <td>7735 Hosford Ave Los Angeles, CA 90045</td>\n",
       "      <td>3,983 Sq Ft5 beds6 baths</td>\n",
       "      <td>$25,000</td>\n",
       "    </tr>\n",
       "    <tr>\n",
       "      <th>2</th>\n",
       "      <td>Summer Parker</td>\n",
       "      <td>1018 S Highland Ave Los Angeles, CA 90019</td>\n",
       "      <td>1,744 Sq Ft2 beds2 baths</td>\n",
       "      <td>$7,000</td>\n",
       "    </tr>\n",
       "    <tr>\n",
       "      <th>3</th>\n",
       "      <td>Linda Roth Burrell</td>\n",
       "      <td>4627 Presidio Dr Los Angeles, CA 90008</td>\n",
       "      <td>1,932 Sq Ft3 beds3 baths</td>\n",
       "      <td>$6,000</td>\n",
       "    </tr>\n",
       "    <tr>\n",
       "      <th>4</th>\n",
       "      <td>Jelana Bentley</td>\n",
       "      <td>2419 El Contento Dr Los Angeles, CA 90068</td>\n",
       "      <td>4,246 Sq Ft3 beds7 baths</td>\n",
       "      <td>$22,500</td>\n",
       "    </tr>\n",
       "  </tbody>\n",
       "</table>\n",
       "</div>"
      ],
      "text/plain": [
       "                   Name                                        Adress  \\\n",
       "0  Agent info not found  11500 National Blvd 109Los Angeles, CA 90064   \n",
       "1  Agent info not found        7735 Hosford Ave Los Angeles, CA 90045   \n",
       "2         Summer Parker     1018 S Highland Ave Los Angeles, CA 90019   \n",
       "3    Linda Roth Burrell        4627 Presidio Dr Los Angeles, CA 90008   \n",
       "4        Jelana Bentley     2419 El Contento Dr Los Angeles, CA 90068   \n",
       "\n",
       "    Residential information    Price  \n",
       "0  1,620 Sq Ft2 beds3 baths   $5,200  \n",
       "1  3,983 Sq Ft5 beds6 baths  $25,000  \n",
       "2  1,744 Sq Ft2 beds2 baths   $7,000  \n",
       "3  1,932 Sq Ft3 beds3 baths   $6,000  \n",
       "4  4,246 Sq Ft3 beds7 baths  $22,500  "
      ]
     },
     "execution_count": 13,
     "metadata": {},
     "output_type": "execute_result"
    }
   ],
   "source": [
    "Home.head()"
   ]
  },
  {
   "cell_type": "code",
   "execution_count": null,
   "id": "8bf535ef-b1ae-4409-a95f-7fba5d178ecd",
   "metadata": {},
   "outputs": [],
   "source": []
  }
 ],
 "metadata": {
  "kernelspec": {
   "display_name": "Python 3 (ipykernel)",
   "language": "python",
   "name": "python3"
  },
  "language_info": {
   "codemirror_mode": {
    "name": "ipython",
    "version": 3
   },
   "file_extension": ".py",
   "mimetype": "text/x-python",
   "name": "python",
   "nbconvert_exporter": "python",
   "pygments_lexer": "ipython3",
   "version": "3.11.5"
  }
 },
 "nbformat": 4,
 "nbformat_minor": 5
}
