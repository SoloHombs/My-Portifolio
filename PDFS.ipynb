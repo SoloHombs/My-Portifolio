{
 "cells": [
  {
   "cell_type": "code",
   "execution_count": 1,
   "id": "1ab0c71f-453a-4256-8f88-c1d75a88ee88",
   "metadata": {},
   "outputs": [],
   "source": []
  },
  {
   "cell_type": "code",
   "execution_count": 13,
   "id": "a466de33-968f-4d32-aa96-a920a1648189",
   "metadata": {},
   "outputs": [],
   "source": [
    "\n"
   ]
  },
  {
   "cell_type": "code",
   "execution_count": 175,
   "id": "a35fee66-af82-4782-869c-b4ae6cdd886c",
   "metadata": {},
   "outputs": [],
   "source": [
    "import requests\n",
    "from bs4 import BeautifulSoup\n",
    "import pandas as pd\n",
    "url='https://www.gwa.de/effie-cases/'\n",
    "response=requests.get(url)\n",
    "documents=[]\n",
    "link=response.text\n",
    "soup=BeautifulSoup(link,'html.parser')\n",
    "papers=soup.find('div',{'class':'effieCases__container'})\n",
    "pdf=papers.find_all('article')\n",
    "for pdy in pdf:\n",
    "    headline=pdy.find('a',{'class':'effieCases__headline'}).text.strip()\n",
    "    title=pdy.find('a',{'class':'effieCases__more'}).text.strip()\n",
    "    image=pdy.find('a').attrs['href']\n",
    "    documents.append([headline,title,image])   \n",
    "docu=pd.DataFrame(documents,columns=['Title','Author','Image Link'])\n",
    "docu.to_csv('C:/Users/DELL/Desktop/Python Projects/Python/Codes/Scraped PDFS.csv',index=False)\n",
    "        \n"
   ]
  },
  {
   "cell_type": "code",
   "execution_count": 174,
   "id": "4e2822d2-225c-43e7-9924-ee3bd84d5366",
   "metadata": {},
   "outputs": [
    {
     "data": {
      "text/html": [
       "<div>\n",
       "<style scoped>\n",
       "    .dataframe tbody tr th:only-of-type {\n",
       "        vertical-align: middle;\n",
       "    }\n",
       "\n",
       "    .dataframe tbody tr th {\n",
       "        vertical-align: top;\n",
       "    }\n",
       "\n",
       "    .dataframe thead th {\n",
       "        text-align: right;\n",
       "    }\n",
       "</style>\n",
       "<table border=\"1\" class=\"dataframe\">\n",
       "  <thead>\n",
       "    <tr style=\"text-align: right;\">\n",
       "      <th></th>\n",
       "      <th>Headline</th>\n",
       "      <th>Title</th>\n",
       "      <th>Image</th>\n",
       "    </tr>\n",
       "  </thead>\n",
       "  <tbody>\n",
       "    <tr>\n",
       "      <th>0</th>\n",
       "      <td>Pandemischer Launch</td>\n",
       "      <td>SLYHEALTH</td>\n",
       "      <td>https://www.gwa.de/cases/pandemischer-launch-...</td>\n",
       "    </tr>\n",
       "    <tr>\n",
       "      <th>1</th>\n",
       "      <td>#ZusammenGegenCorona</td>\n",
       "      <td>antoni Holding</td>\n",
       "      <td>https://www.gwa.de/cases/zusammengegencorona-...</td>\n",
       "    </tr>\n",
       "    <tr>\n",
       "      <th>2</th>\n",
       "      <td>#ZusammenGegenCorona</td>\n",
       "      <td>antoni Holding</td>\n",
       "      <td>https://www.gwa.de/cases/zusammengegencorona-...</td>\n",
       "    </tr>\n",
       "    <tr>\n",
       "      <th>3</th>\n",
       "      <td>#ÄrmelHoch für die Impfung – Die vielleicht re...</td>\n",
       "      <td>Scholz &amp; Friends Family</td>\n",
       "      <td>https://www.gwa.de/cases/aermelhoch-fuer-die-...</td>\n",
       "    </tr>\n",
       "    <tr>\n",
       "      <th>4</th>\n",
       "      <td>Anti-Gaffen-Design</td>\n",
       "      <td>Scholz &amp; Friends Family</td>\n",
       "      <td>https://www.gwa.de/cases/anti-gaffen-design-e...</td>\n",
       "    </tr>\n",
       "  </tbody>\n",
       "</table>\n",
       "</div>"
      ],
      "text/plain": [
       "                                            Headline                    Title  \\\n",
       "0                                Pandemischer Launch                SLYHEALTH   \n",
       "1                               #ZusammenGegenCorona           antoni Holding   \n",
       "2                               #ZusammenGegenCorona           antoni Holding   \n",
       "3  #ÄrmelHoch für die Impfung – Die vielleicht re...  Scholz & Friends Family   \n",
       "4                                 Anti-Gaffen-Design  Scholz & Friends Family   \n",
       "\n",
       "                                               Image  \n",
       "0   https://www.gwa.de/cases/pandemischer-launch-...  \n",
       "1   https://www.gwa.de/cases/zusammengegencorona-...  \n",
       "2   https://www.gwa.de/cases/zusammengegencorona-...  \n",
       "3   https://www.gwa.de/cases/aermelhoch-fuer-die-...  \n",
       "4   https://www.gwa.de/cases/anti-gaffen-design-e...  "
      ]
     },
     "execution_count": 174,
     "metadata": {},
     "output_type": "execute_result"
    }
   ],
   "source": [
    "docu.head()"
   ]
  }
 ],
 "metadata": {
  "kernelspec": {
   "display_name": "Python 3 (ipykernel)",
   "language": "python",
   "name": "python3"
  },
  "language_info": {
   "codemirror_mode": {
    "name": "ipython",
    "version": 3
   },
   "file_extension": ".py",
   "mimetype": "text/x-python",
   "name": "python",
   "nbconvert_exporter": "python",
   "pygments_lexer": "ipython3",
   "version": "3.11.5"
  }
 },
 "nbformat": 4,
 "nbformat_minor": 5
}
